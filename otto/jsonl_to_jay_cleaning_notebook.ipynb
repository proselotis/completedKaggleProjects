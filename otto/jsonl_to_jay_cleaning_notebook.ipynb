{
 "cells": [
  {
   "cell_type": "code",
   "execution_count": null,
   "id": "94c714e4",
   "metadata": {},
   "outputs": [],
   "source": [
    "!pip install tqdm\n",
    "!pip install datatable"
   ]
  },
  {
   "cell_type": "code",
   "execution_count": null,
   "id": "245841f0",
   "metadata": {},
   "outputs": [],
   "source": [
    "from pathlib import Path \n",
    "from tqdm import tqdm\n",
    "import matplotlib.pyplot as plt\n",
    "import pandas as pd\n",
    "import datatable as dt"
   ]
  },
  {
   "cell_type": "code",
   "execution_count": null,
   "id": "cbc70f3c",
   "metadata": {},
   "outputs": [],
   "source": [
    "# %%time\n",
    "# train_df_og = dt.fread(\"data/train.jsonl\",header=False)"
   ]
  },
  {
   "cell_type": "code",
   "execution_count": null,
   "id": "b2e68f07",
   "metadata": {},
   "outputs": [],
   "source": [
    "data_path = Path('data/')"
   ]
  },
  {
   "cell_type": "code",
   "execution_count": null,
   "id": "ab450636",
   "metadata": {},
   "outputs": [],
   "source": [
    "train_df_og = pd.read_json(data_path / 'train.jsonl', lines=True,chunksize=500000)"
   ]
  },
  {
   "cell_type": "code",
   "execution_count": null,
   "id": "2d3130dc",
   "metadata": {},
   "outputs": [],
   "source": [
    "## For pandas jsonreader object\n",
    "\n",
    "train_dfs = []\n",
    "for e, row in enumerate(tqdm(train_df_og)):\n",
    "    event_dict = {\n",
    "        'session': [],\n",
    "        'aid': [],\n",
    "        'ts': [],\n",
    "        'type': [],\n",
    "    }\n",
    "    for session, events in zip(row['session'].tolist(), row['events'].tolist()):\n",
    "        for event in events:\n",
    "            event_dict['session'].append(session)\n",
    "            event_dict['aid'].append(event['aid'])\n",
    "            event_dict['ts'].append(event['ts'])\n",
    "            event_dict['type'].append(event['type'])\n",
    "    \n",
    "    dt.Frame(event_dict).to_jay(f\"data/train_temp/{e}.jay\")\n"
   ]
  },
  {
   "cell_type": "code",
   "execution_count": null,
   "id": "fdf3ae92",
   "metadata": {},
   "outputs": [],
   "source": [
    "train_dt = dt.rbind(dt.iread(\"data/train_temp/*.jay\"))"
   ]
  },
  {
   "cell_type": "code",
   "execution_count": null,
   "id": "967714d4",
   "metadata": {},
   "outputs": [],
   "source": [
    "train_dt.to_jay(\"data/train.jay\")"
   ]
  },
  {
   "cell_type": "code",
   "execution_count": null,
   "id": "99335b3c",
   "metadata": {},
   "outputs": [],
   "source": [
    "%%time\n",
    "dt.fread(\"data/train.jay\")"
   ]
  },
  {
   "cell_type": "code",
   "execution_count": null,
   "id": "f62a22fa",
   "metadata": {},
   "outputs": [],
   "source": [
    "## For pandas data frame read in \n",
    "\n",
    "%%time\n",
    "train_dfs = []\n",
    "for e, row in tqdm(train_df_og.iterrows()):\n",
    "    event_dict = {\n",
    "        'session': [],\n",
    "        'aid': [],\n",
    "        'ts': [],\n",
    "        'type': [],\n",
    "    }\n",
    "    for session, events in zip([row['session']], [row['events']]):\n",
    "        for event in events:\n",
    "            event_dict['session'].append(session)\n",
    "            event_dict['aid'].append(event['aid'])\n",
    "            event_dict['ts'].append(event['ts'])\n",
    "            event_dict['type'].append(event['type'])\n",
    "\n",
    "    train_dfs.append(pd.DataFrame(event_dict))\n",
    "    if len(train_dfs) == 100000:\n",
    "        train_dfs = pd.concat(train_dfs)\n",
    "        temp_f = dt.Frame(train_dfs)\n",
    "        temp_f.to_jay(f\"data/train_temp/{e}.jay\")\n",
    "        temp_f = None\n",
    "        train_dfs = []\n",
    "\n",
    "# test_df = pd.concat(test_dfs)"
   ]
  }
 ],
 "metadata": {
  "kernelspec": {
   "display_name": "saturn (Python 3)",
   "language": "python",
   "name": "python3"
  },
  "language_info": {
   "codemirror_mode": {
    "name": "ipython",
    "version": 3
   },
   "file_extension": ".py",
   "mimetype": "text/x-python",
   "name": "python",
   "nbconvert_exporter": "python",
   "pygments_lexer": "ipython3",
   "version": "3.9.12"
  }
 },
 "nbformat": 4,
 "nbformat_minor": 5
}
